{
 "cells": [
  {
   "cell_type": "markdown",
   "metadata": {},
   "source": [
    "# Phase Gradient Averages\n",
    "The aim of this notebook is to identify the distribution of Phase Gradient Averages (PGAs) across a large sample.\n",
    "The PGA is a simple measurement of the average value of the Phase Gradient ($D_k$) for a sample. The average value serves as a diagnostic tool to determine the fairness of that sample, as the average value of $D_k$ is expected to be approximately zero. If the value of the PGA is significantly deviant from zero, it is fair to assume that the sample is not a realistic sample of the Universe.\n",
    "\n",
    "This notebook aims to split a single dataset into multiple subsets and analyse the PGAs of each subset, eventually producing a distribution of PGA values over the whole set. We expect that the direction of the phase gradient will have no effect on the distribution itself, but this will be investigated further."
   ]
  },
  {
   "cell_type": "markdown",
   "metadata": {},
   "source": [
    "# Data Import\n",
    "Import the dataset to be analysed"
   ]
  },
  {
   "cell_type": "code",
   "execution_count": 2,
   "metadata": {},
   "outputs": [],
   "source": [
    "import numpy as np\n",
    "import matplotlib.pyplot as plt\n",
    "import scipy.stats as spy\n",
    "import os\n",
    "cwd = os.getcwd() #Fetch the current working directory for the GitHub repository\n",
    "data = np.loadtxt('{0}\\GiggleZ Redshift Data\\z0pt000.dat'.format(cwd)) #Load data file\n",
    "x_data, y_data, z_data = data[:,1], data[:,2], data[:,3] #Assign x, y and z data values from columns 1, 2 and 3 from the data file\n",
    "resolution = 512 #Dictates the number of bins in x,y,z (Use powers of 2)\n",
    "field_length = 1000 #The length of x,y,z in Mpc/h\n",
    "nx,ny,nz = resolution,resolution,resolution #number of bins in x, y and z. Stick to powers of 2!\n",
    "lx,ly,lz = field_length,field_length,field_length #needs units (Mpc/h)! #length of each dimension\n",
    "dx,dy,dz = lx/nx,ly/ny,lz/nz #length of each bin\n",
    "datagrid = np.zeros((nx,ny,nz)) #initialize the data grid\n",
    "datagrid, edges = np.histogramdd(np.vstack([x_data,y_data,z_data]).transpose(),bins=(nx,ny,nz),range=((0.,lx),(0.,ly),(0.,lz))) #bin data\n",
    "kx = 2.*np.pi*np.fft.fftfreq(nx,d=lx/nx) \n",
    "ky = 2.*np.pi*np.fft.fftfreq(ny,d=ly/ny)\n",
    "kz = 2.*np.pi*np.fft.fftfreq(nz,d=lz/nz)\n",
    "k_tot = np.sqrt(kx[:,np.newaxis,np.newaxis]**2 + ky[np.newaxis,:,np.newaxis]**2 + kz[np.newaxis,np.newaxis,:]**2)\n",
    "\n",
    "mean_density = np.float(len(x_data))/np.float(nx*ny*nz)\n",
    "overdensities = datagrid/mean_density-1 +0j"
   ]
  },
  {
   "cell_type": "code",
   "execution_count": 11,
   "metadata": {},
   "outputs": [],
   "source": [
    "L_array = np.linspace(0,field_length,resolution) #Array for values of length\n",
    "GRFgrid=np.zeros((resolution, resolution, resolution),dtype=complex) #Initial state of 3D grid (zeros)\n",
    "sig = np.std(overdensities)\n",
    "for i in range(0,resolution): #For loop to create a 3D grid\n",
    "    for j in range(0,resolution):\n",
    "        for k in range(0,resolution):\n",
    "            GRFgrid[i,j,k] = np.random.normal(scale=sig) #Assigns each pixel a GRF value (standardised to GiggleZ statistics)\n",
    "FFTgrid = np.fft.fftn(GRFgrid) #Perform a Fourier Transform on the density field\n",
    "GRFamplitudes = np.sqrt(FFTgrid.real**2 + FFTgrid.imag**2)\n",
    "GRFphases = np.arctan2(FFTgrid.imag, FFTgrid.real)"
   ]
  },
  {
   "cell_type": "markdown",
   "metadata": {},
   "source": [
    "# Cuts\n",
    "Cut the sample into subsets"
   ]
  },
  {
   "cell_type": "code",
   "execution_count": 37,
   "metadata": {},
   "outputs": [
    {
     "name": "stdout",
     "output_type": "stream",
     "text": [
      "Creating Subsets... (0.0%)\n",
      "Creating Subsets... (6.25%)\n",
      "Creating Subsets... (12.5%)\n",
      "Creating Subsets... (18.75%)\n",
      "Creating Subsets... (25.0%)\n",
      "Creating Subsets... (31.25%)\n",
      "Creating Subsets... (37.5%)\n",
      "Creating Subsets... (43.75%)\n",
      "Creating Subsets... (50.0%)\n",
      "Creating Subsets... (56.25%)\n",
      "Creating Subsets... (62.5%)\n",
      "Creating Subsets... (68.75%)\n",
      "Creating Subsets... (75.0%)\n",
      "Creating Subsets... (81.25%)\n",
      "Creating Subsets... (87.5%)\n",
      "Creating Subsets... (93.75%)\n",
      "Creating Subsets... (100%)\n"
     ]
    }
   ],
   "source": [
    "subsets = 16 #The number of subsets to divide the sample into (for each dimension) - stick to powers of 2!\n",
    "pps = int(resolution/subsets) #Number of pixels per subset\n",
    "subset = np.zeros((pps,pps,pps), dtype=np.ndarray) #Initialize the subset array\n",
    "for i in range(subsets):\n",
    "    print('Creating Subsets... ({0}%)'.format(100*i/subsets))\n",
    "    for j in range(subsets):\n",
    "        for k in range(subsets):\n",
    "            subset[i,j,k] = overdensities[i*pps:(i+1)*pps,j*pps:(j+1)*pps,k*pps:(k+1)*pps]\n",
    "print('Creating Subsets... (100%)')"
   ]
  },
  {
   "cell_type": "markdown",
   "metadata": {
    "collapsed": true
   },
   "source": [
    "# Subset Analysis"
   ]
  },
  {
   "cell_type": "code",
   "execution_count": 38,
   "metadata": {},
   "outputs": [
    {
     "name": "stdout",
     "output_type": "stream",
     "text": [
      "Analysing Subsets... 0.0%\n",
      "Analysing Subsets... 6.25%\n",
      "Analysing Subsets... 12.5%\n",
      "Analysing Subsets... 18.75%\n",
      "Analysing Subsets... 25.0%\n",
      "Analysing Subsets... 31.25%\n",
      "Analysing Subsets... 37.5%\n",
      "Analysing Subsets... 43.75%\n",
      "Analysing Subsets... 50.0%\n",
      "Analysing Subsets... 56.25%\n",
      "Analysing Subsets... 62.5%\n",
      "Analysing Subsets... 68.75%\n",
      "Analysing Subsets... 75.0%\n",
      "Analysing Subsets... 81.25%\n",
      "Analysing Subsets... 87.5%\n",
      "Analysing Subsets... 93.75%\n",
      "Analysing Subsets... (100%)\n"
     ]
    }
   ],
   "source": [
    "mean_vals = np.zeros((subsets,subsets,subsets))\n",
    "for i in range(subsets):\n",
    "    print('Analysing Subsets... {0}%'.format(100*i/subsets))\n",
    "    for j in range(subsets):\n",
    "        for k in range(subsets):\n",
    "            FFTfield = np.fft.fftn(subset[i,j,k]) #Perform a Fourier Transform on the density field\n",
    "            #Samplitudes = np.sqrt(FFTfield.real**2 + FFTfield.imag**2)\n",
    "            Sphases = np.arctan2(FFTfield.imag, FFTfield.real)\n",
    "            SD_k = np.roll(Sphases,1,axis=0)-Sphases\n",
    "            for a in range(pps):\n",
    "                for b in range(pps):\n",
    "                    for c in range(pps):\n",
    "                        if SD_k[i,j,k] < -np.pi:\n",
    "                            SD_k[i,j,k] += 2*np.pi\n",
    "                        if SD_k[i,j,k] > np.pi:\n",
    "                            SD_k[i,j,k] -= 2*np.pi\n",
    "            Sdist = SD_k[SD_k != 0].flatten()\n",
    "            mean_vals[i,j,k] = np.var(Sdist)\n",
    "print('Analysing Subsets... (100%)')"
   ]
  },
  {
   "cell_type": "code",
   "execution_count": 39,
   "metadata": {},
   "outputs": [
    {
     "data": {
      "image/png": "[encoded data removed]",
      "text/plain": [
       "<Figure size 432x288 with 1 Axes>"
      ]
     },
     "metadata": {},
     "output_type": "display_data"
    }
   ],
   "source": [
    "plt.figure('mean_vals_hist')\n",
    "plt.hist(mean_vals.flatten(),bins=subsets*2)\n",
    "plt.show()"
   ]
  },
  {
   "cell_type": "code",
   "execution_count": 43,
   "metadata": {},
   "outputs": [
    {
     "name": "stdout",
     "output_type": "stream",
     "text": [
      "3.289868133696453\n"
     ]
    }
   ],
   "source": [
    "print((-np.pi-np.pi)**2/12)"
   ]
  },
  {
   "cell_type": "code",
   "execution_count": 36,
   "metadata": {},
   "outputs": [
    {
     "data": {
      "image/png": "[encoded data removed]",
      "text/plain": [
       "<Figure size 432x288 with 1 Axes>"
      ]
     },
     "metadata": {},
     "output_type": "display_data"
    }
   ],
   "source": [
    "plt.figure('mean_vals_hist')\n",
    "plt.hist(mean_vals.flatten(),bins=subsets*2)\n",
    "plt.show()"
   ]
  },
  {
   "cell_type": "code",
   "execution_count": null,
   "metadata": {},
   "outputs": [],
   "source": []
  }
 ],
 "metadata": {
  "kernelspec": {
   "display_name": "Python 3",
   "language": "python",
   "name": "python3"
  },
  "language_info": {
   "codemirror_mode": {
    "name": "ipython",
    "version": 3
   },
   "file_extension": ".py",
   "mimetype": "text/x-python",
   "name": "python",
   "nbconvert_exporter": "python",
   "pygments_lexer": "ipython3",
   "version": "3.6.5"
  }
 },
 "nbformat": 4,
 "nbformat_minor": 1
}
